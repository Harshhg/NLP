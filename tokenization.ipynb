{
  "nbformat": 4,
  "nbformat_minor": 0,
  "metadata": {
    "colab": {
      "name": "tokenization.ipynb",
      "version": "0.3.2",
      "provenance": [],
      "collapsed_sections": []
    },
    "kernelspec": {
      "name": "python3",
      "display_name": "Python 3"
    }
  },
  "cells": [
    {
      "cell_type": "code",
      "metadata": {
        "id": "-uGBMYiEYNvk",
        "colab_type": "code",
        "outputId": "50671da2-d8f7-43a2-d385-9c7b76e00924",
        "colab": {
          "base_uri": "https://localhost:8080/",
          "height": 67
        }
      },
      "source": [
        "import nltk\n",
        "# Importing tokenizer\n",
        "from nltk.tokenize import sent_tokenize   # Sentence Tokenizer.\n",
        "from nltk.tokenize import word_tokenize   # Word Tokenizer.\n",
        "nltk.download('punkt')    # puncutation tokenizer"
      ],
      "execution_count": 13,
      "outputs": [
        {
          "output_type": "stream",
          "text": [
            "[nltk_data] Downloading package punkt to /root/nltk_data...\n",
            "[nltk_data]   Package punkt is already up-to-date!\n"
          ],
          "name": "stdout"
        },
        {
          "output_type": "execute_result",
          "data": {
            "text/plain": [
              "True"
            ]
          },
          "metadata": {
            "tags": []
          },
          "execution_count": 13
        }
      ]
    },
    {
      "cell_type": "code",
      "metadata": {
        "id": "zVtpHNjYXIs4",
        "colab_type": "code",
        "colab": {}
      },
      "source": [
        "msg='''\n",
        "Hello world, this is the random sentence.\n",
        "So here we are using tokenizer. are we? yes, we are.\n",
        "Thanks.\n",
        "'''"
      ],
      "execution_count": 0,
      "outputs": []
    },
    {
      "cell_type": "code",
      "metadata": {
        "id": "3NfBk-5FXogX",
        "colab_type": "code",
        "outputId": "0e57a21f-9003-4ded-ec07-ce5cc874077c",
        "colab": {
          "base_uri": "https://localhost:8080/",
          "height": 101
        }
      },
      "source": [
        "# Sentence Tokenizer..\n",
        "sent=sent_tokenize(msg)\n",
        "sent"
      ],
      "execution_count": 15,
      "outputs": [
        {
          "output_type": "execute_result",
          "data": {
            "text/plain": [
              "['\\nHello world, this is the random sentence.',\n",
              " 'So here we are using tokenizer.',\n",
              " 'are we?',\n",
              " 'yes, we are.',\n",
              " 'Thanks.']"
            ]
          },
          "metadata": {
            "tags": []
          },
          "execution_count": 15
        }
      ]
    },
    {
      "cell_type": "code",
      "metadata": {
        "id": "6JCOOHfxX4eg",
        "colab_type": "code",
        "outputId": "d7d0f4e1-221b-4886-bd40-5761195723ab",
        "colab": {
          "base_uri": "https://localhost:8080/",
          "height": 34
        }
      },
      "source": [
        "len(sent)   # Shows number of sentences."
      ],
      "execution_count": 16,
      "outputs": [
        {
          "output_type": "execute_result",
          "data": {
            "text/plain": [
              "5"
            ]
          },
          "metadata": {
            "tags": []
          },
          "execution_count": 16
        }
      ]
    },
    {
      "cell_type": "code",
      "metadata": {
        "id": "t7e0WocfYXTA",
        "colab_type": "code",
        "colab": {}
      },
      "source": [
        "# Now tokenizing by words\n",
        "word=word_tokenize(msg)\n",
        "word"
      ],
      "execution_count": 0,
      "outputs": []
    },
    {
      "cell_type": "code",
      "metadata": {
        "id": "3z5Jy-7kYfNT",
        "colab_type": "code",
        "colab": {}
      },
      "source": [
        "# Stopwords removal..\n",
        "from nltk.corpus import stopwords"
      ],
      "execution_count": 0,
      "outputs": []
    },
    {
      "cell_type": "code",
      "metadata": {
        "id": "FiMnAgtcYre2",
        "colab_type": "code",
        "colab": {}
      },
      "source": [
        "# Removing stopwords from actual word\n",
        "newword = [i for i in word if i.lower() not in stopwords.words('english')]"
      ],
      "execution_count": 0,
      "outputs": []
    },
    {
      "cell_type": "code",
      "metadata": {
        "id": "5cL9VIDAY5Li",
        "colab_type": "code",
        "outputId": "b9b73427-a12f-4992-aff3-abe3522b6964",
        "colab": {
          "base_uri": "https://localhost:8080/",
          "height": 34
        }
      },
      "source": [
        "len(newword)  # displaying the number of words after removing the stopwords"
      ],
      "execution_count": 21,
      "outputs": [
        {
          "output_type": "execute_result",
          "data": {
            "text/plain": [
              "15"
            ]
          },
          "metadata": {
            "tags": []
          },
          "execution_count": 21
        }
      ]
    },
    {
      "cell_type": "code",
      "metadata": {
        "id": "3Ra4wT5AZI2L",
        "colab_type": "code",
        "outputId": "0dde5574-ccd0-462e-f411-212d9edad061",
        "colab": {
          "base_uri": "https://localhost:8080/",
          "height": 319
        }
      },
      "source": [
        "# NLTK Frequency plot using FreqDist\n",
        "import nltk\n",
        "nlp=nltk.FreqDist(word)   # Plotting the actual words..\n",
        "nlp.plot()  \n"
      ],
      "execution_count": 22,
      "outputs": [
        {
          "output_type": "display_data",
          "data": {
            "image/png": "[encoded data removed]",
            "text/plain": [
              "<Figure size 432x288 with 1 Axes>"
            ]
          },
          "metadata": {
            "tags": []
          }
        }
      ]
    },
    {
      "cell_type": "code",
      "metadata": {
        "id": "Zbh7tBY4ZdH-",
        "colab_type": "code",
        "outputId": "0c74c641-6254-4684-bbe0-71caba159bd0",
        "colab": {
          "base_uri": "https://localhost:8080/",
          "height": 319
        }
      },
      "source": [
        "nlp1=nltk.FreqDist(newword)  # plotting the new words after removing stopwords\n",
        "nlp1.plot()"
      ],
      "execution_count": 23,
      "outputs": [
        {
          "output_type": "display_data",
          "data": {
            "image/png": "[encoded data removed]",
            "text/plain": [
              "<Figure size 432x288 with 1 Axes>"
            ]
          },
          "metadata": {
            "tags": []
          }
        }
      ]
    }
  ]
}