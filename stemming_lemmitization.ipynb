{
  "nbformat": 4,
  "nbformat_minor": 0,
  "metadata": {
    "colab": {
      "name": "stemming_lemmitization.ipynb",
      "version": "0.3.2",
      "provenance": [],
      "collapsed_sections": []
    },
    "kernelspec": {
      "name": "python3",
      "display_name": "Python 3"
    }
  },
  "cells": [
    {
      "cell_type": "code",
      "metadata": {
        "id": "4mAULWE7d1db",
        "colab_type": "code",
        "colab": {}
      },
      "source": [
        "# from nltk import stem\n",
        "import nltk\n",
        "from nltk.stem import PorterStemmer    # For stemming\n",
        "from nltk.stem import WordNetLemmatizer   # For lemmetization"
      ],
      "execution_count": 0,
      "outputs": []
    },
    {
      "cell_type": "code",
      "metadata": {
        "id": "G5mGnoy9eKBh",
        "colab_type": "code",
        "colab": {
          "base_uri": "https://localhost:8080/",
          "height": 50
        },
        "outputId": "bed35191-3948-4d74-e357-715484ee1edf"
      },
      "source": [
        "nltk.download('wordnet')\n",
        "# Stemming \n",
        "port = PorterStemmer()\n",
        "x=['going','goes','gone','intelligent','intelligence','intelligently']"
      ],
      "execution_count": 14,
      "outputs": [
        {
          "output_type": "stream",
          "text": [
            "[nltk_data] Downloading package wordnet to /root/nltk_data...\n",
            "[nltk_data]   Package wordnet is already up-to-date!\n"
          ],
          "name": "stdout"
        }
      ]
    },
    {
      "cell_type": "code",
      "metadata": {
        "id": "aHYttqGceV1q",
        "colab_type": "code",
        "outputId": "0def9117-e617-4e9d-f2b7-e7a057e2d265",
        "colab": {
          "base_uri": "https://localhost:8080/",
          "height": 118
        }
      },
      "source": [
        "# supplying a word\n",
        "for i in x:\n",
        "  print(port.stem(i))\n",
        " "
      ],
      "execution_count": 15,
      "outputs": [
        {
          "output_type": "stream",
          "text": [
            "go\n",
            "goe\n",
            "gone\n",
            "intellig\n",
            "intellig\n",
            "intellig\n"
          ],
          "name": "stdout"
        }
      ]
    },
    {
      "cell_type": "code",
      "metadata": {
        "id": "85XWFjNXea7K",
        "colab_type": "code",
        "colab": {
          "base_uri": "https://localhost:8080/",
          "height": 118
        },
        "outputId": "2ec9e2a2-d904-4db8-ae7e-5e9f33924521"
      },
      "source": [
        "# applying lemmitization\n",
        "wl=WordNetLemmatizer()\n",
        "for i in x:\n",
        "  print(wl.lemmatize(i))"
      ],
      "execution_count": 16,
      "outputs": [
        {
          "output_type": "stream",
          "text": [
            "going\n",
            "go\n",
            "gone\n",
            "intelligent\n",
            "intelligence\n",
            "intelligently\n"
          ],
          "name": "stdout"
        }
      ]
    },
    {
      "cell_type": "code",
      "metadata": {
        "id": "h8tdUT3gdpRA",
        "colab_type": "code",
        "colab": {}
      },
      "source": [
        "\n"
      ],
      "execution_count": 0,
      "outputs": []
    }
  ]
}