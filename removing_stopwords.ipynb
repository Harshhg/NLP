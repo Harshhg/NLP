{
  "nbformat": 4,
  "nbformat_minor": 0,
  "metadata": {
    "colab": {
      "name": "removing_stopwords.ipynb",
      "version": "0.3.2",
      "provenance": [],
      "collapsed_sections": []
    },
    "kernelspec": {
      "name": "python3",
      "display_name": "Python 3"
    }
  },
  "cells": [
    {
      "cell_type": "code",
      "metadata": {
        "id": "LaKXuK8A88Hq",
        "colab_type": "code",
        "colab": {}
      },
      "source": [
        "import nltk"
      ],
      "execution_count": 0,
      "outputs": []
    },
    {
      "cell_type": "code",
      "metadata": {
        "id": "1HRSqmQQ-Pxx",
        "colab_type": "code",
        "outputId": "06ba028c-5ba4-4a1d-e1ce-d0eebe2f820e",
        "colab": {
          "base_uri": "https://localhost:8080/",
          "height": 67
        }
      },
      "source": [
        "# nltk.download('all') # To download the stanford universty dataset of 3 GB something.\n",
        "nltk.download('stopwords')  "
      ],
      "execution_count": 29,
      "outputs": [
        {
          "output_type": "stream",
          "text": [
            "[nltk_data] Downloading package stopwords to /root/nltk_data...\n",
            "[nltk_data]   Unzipping corpora/stopwords.zip.\n"
          ],
          "name": "stdout"
        },
        {
          "output_type": "execute_result",
          "data": {
            "text/plain": [
              "True"
            ]
          },
          "metadata": {
            "tags": []
          },
          "execution_count": 29
        }
      ]
    },
    {
      "cell_type": "code",
      "metadata": {
        "id": "kZiN9lEl-YUT",
        "colab_type": "code",
        "colab": {}
      },
      "source": [
        "# Importing stopwords\n",
        "from  nltk.corpus import stopwords"
      ],
      "execution_count": 0,
      "outputs": []
    },
    {
      "cell_type": "code",
      "metadata": {
        "id": "0FQoXjjg-78G",
        "colab_type": "code",
        "colab": {}
      },
      "source": [
        "stopwords.words('english')    # display the list of the stopwords of english defined in dataset."
      ],
      "execution_count": 0,
      "outputs": []
    },
    {
      "cell_type": "code",
      "metadata": {
        "id": "BSaTFImTafLB",
        "colab_type": "code",
        "colab": {
          "base_uri": "https://localhost:8080/",
          "height": 252
        },
        "outputId": "0e56f104-486f-40c3-af50-06cb548b7328"
      },
      "source": [
        "msg='Hello there how are you i am fine so let us talk about this'\n",
        "msg=msg.split()\n",
        "msg"
      ],
      "execution_count": 34,
      "outputs": [
        {
          "output_type": "execute_result",
          "data": {
            "text/plain": [
              "['Hello',\n",
              " 'there',\n",
              " 'how',\n",
              " 'are',\n",
              " 'you',\n",
              " 'i',\n",
              " 'am',\n",
              " 'fine',\n",
              " 'so',\n",
              " 'let',\n",
              " 'us',\n",
              " 'talk',\n",
              " 'about',\n",
              " 'this']"
            ]
          },
          "metadata": {
            "tags": []
          },
          "execution_count": 34
        }
      ]
    },
    {
      "cell_type": "code",
      "metadata": {
        "id": "HB4aB7-H_Gst",
        "colab_type": "code",
        "colab": {
          "base_uri": "https://localhost:8080/",
          "height": 34
        },
        "outputId": "14f00f17-73e7-4cca-c203-cf3a2c3bda64"
      },
      "source": [
        "removedata = [i for i in msg  if i.lower() not in stopwords.words('english')]  # Removing the stopwords \n",
        "removedata   # printing the new words.."
      ],
      "execution_count": 36,
      "outputs": [
        {
          "output_type": "execute_result",
          "data": {
            "text/plain": [
              "['Hello', 'fine', 'let', 'us', 'talk']"
            ]
          },
          "metadata": {
            "tags": []
          },
          "execution_count": 36
        }
      ]
    }
  ]
}