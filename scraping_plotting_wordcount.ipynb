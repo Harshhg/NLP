{
  "nbformat": 4,
  "nbformat_minor": 0,
  "metadata": {
    "colab": {
      "name": "scraping_plotting_wordcount.ipynb",
      "version": "0.3.2",
      "provenance": [],
      "collapsed_sections": []
    },
    "kernelspec": {
      "name": "python3",
      "display_name": "Python 3"
    }
  },
  "cells": [
    {
      "cell_type": "code",
      "metadata": {
        "id": "UxVSvk5mDzh-",
        "colab_type": "code",
        "colab": {}
      },
      "source": [
        "import requests\n",
        "from bs4 import BeautifulSoup\n",
        "import matplotlib.pyplot as plt\n",
        "import nltk "
      ],
      "execution_count": 0,
      "outputs": []
    },
    {
      "cell_type": "code",
      "metadata": {
        "id": "3LfcyxEsD9e_",
        "colab_type": "code",
        "colab": {}
      },
      "source": [
        "# accessing the website from the URL\n",
        "webdata=requests.get('https://php.net')"
      ],
      "execution_count": 0,
      "outputs": []
    },
    {
      "cell_type": "code",
      "metadata": {
        "id": "tOhwf2FhEnAF",
        "colab_type": "code",
        "colab": {}
      },
      "source": [
        "# Now getting the actual data of any website..\n",
        "htmldata=webdata.text"
      ],
      "execution_count": 0,
      "outputs": []
    },
    {
      "cell_type": "code",
      "metadata": {
        "id": "qntrCgezGnl7",
        "colab_type": "code",
        "colab": {}
      },
      "source": [
        "soup=BeautifulSoup(htmldata,'html5lib')  # Using html5lib parser.. you have to download it. (pip3 isntall html5lib)"
      ],
      "execution_count": 0,
      "outputs": []
    },
    {
      "cell_type": "code",
      "metadata": {
        "id": "cnByRLwsHCi8",
        "colab_type": "code",
        "colab": {}
      },
      "source": [
        "# Finding all the data \n",
        "clean_data=soup.get_text()  # This will remove all the tags from the scraped data.. and only show the data."
      ],
      "execution_count": 0,
      "outputs": []
    },
    {
      "cell_type": "code",
      "metadata": {
        "id": "RebWAlGjHUzd",
        "colab_type": "code",
        "colab": {}
      },
      "source": [
        "# saving the data permanently so that we need not to scrap again and again..(google bot will block if done so.)\n",
        "with open('mywebdata.txt','w+') as f:\n",
        "  f.write(clean_data)"
      ],
      "execution_count": 0,
      "outputs": []
    },
    {
      "cell_type": "code",
      "metadata": {
        "id": "m_mAvfoOHVzs",
        "colab_type": "code",
        "colab": {}
      },
      "source": [
        "# Reading from the file..\n",
        "f=open('mywebdata.txt','r')\n",
        "mydata=f.read()\n",
        "f.close()"
      ],
      "execution_count": 0,
      "outputs": []
    },
    {
      "cell_type": "code",
      "metadata": {
        "id": "V_fILve9I6xF",
        "colab_type": "code",
        "colab": {}
      },
      "source": [
        "# Splitting\n",
        "newdata=mydata.split()  # Splits all the string data by 'new line'"
      ],
      "execution_count": 0,
      "outputs": []
    },
    {
      "cell_type": "code",
      "metadata": {
        "id": "qLETXb9uJ5oY",
        "colab_type": "code",
        "outputId": "3de235aa-c802-43d3-f9c4-3926b5e0972c",
        "colab": {
          "base_uri": "https://localhost:8080/",
          "height": 34
        }
      },
      "source": [
        "# Searching the function from the library\n",
        "[i for i in dir(nltk) if 'Freq' in i]  # FreqDist method will count the each words from a list...and maintain a dictionary (word:count)"
      ],
      "execution_count": 32,
      "outputs": [
        {
          "output_type": "execute_result",
          "data": {
            "text/plain": [
              "['ConditionalFreqDist', 'FreqDist']"
            ]
          },
          "metadata": {
            "tags": []
          },
          "execution_count": 32
        }
      ]
    },
    {
      "cell_type": "code",
      "metadata": {
        "id": "zZH9G2qpPPp0",
        "colab_type": "code",
        "colab": {}
      },
      "source": [
        "# Removing stopwords\n",
        "from nltk.corpus import stopwords\n",
        "# lowering the value, because dataset contains values in lowercaps.\n",
        "removedata = [i for i in newdata  if i.lower() not in stopwords.words('english')   ]"
      ],
      "execution_count": 0,
      "outputs": []
    },
    {
      "cell_type": "code",
      "metadata": {
        "id": "EWoOxdFkKjwB",
        "colab_type": "code",
        "colab": {}
      },
      "source": [
        "# Plotting graph of actual data (with stopwords)\n",
        "\n",
        "# Calling FreqDist method for word counts\n",
        "nlpdata = nltk.FreqDist(newdata) "
      ],
      "execution_count": 0,
      "outputs": []
    },
    {
      "cell_type": "code",
      "metadata": {
        "id": "QRFvzsnyKopD",
        "colab_type": "code",
        "outputId": "d8a0fc53-36ac-4397-9443-b256ab799757",
        "colab": {
          "base_uri": "https://localhost:8080/",
          "height": 326
        }
      },
      "source": [
        "# Plotting the word count of 20 words\n",
        "nlpdata.plot(20)"
      ],
      "execution_count": 51,
      "outputs": [
        {
          "output_type": "display_data",
          "data": {
            "image/png": "[encoded data removed]",
            "text/plain": [
              "<Figure size 432x288 with 1 Axes>"
            ]
          },
          "metadata": {
            "tags": []
          }
        }
      ]
    },
    {
      "cell_type": "code",
      "metadata": {
        "id": "5c7q9MBDKvKT",
        "colab_type": "code",
        "colab": {}
      },
      "source": [
        "# Plotting graph of new data (after removing stopwords)\n",
        "cleandata=nltk.FreqDist(removedata)"
      ],
      "execution_count": 0,
      "outputs": []
    },
    {
      "cell_type": "code",
      "metadata": {
        "id": "dhl1DdURLMRJ",
        "colab_type": "code",
        "colab": {
          "base_uri": "https://localhost:8080/",
          "height": 326
        },
        "outputId": "8d63acd8-c6ed-43fb-c195-7a523f775be1"
      },
      "source": [
        "# Plotting the word count of 20 words (no stopwords)\n",
        "cleandata.plot(20)"
      ],
      "execution_count": 55,
      "outputs": [
        {
          "output_type": "display_data",
          "data": {
            "image/png": "[encoded data removed]",
            "text/plain": [
              "<Figure size 432x288 with 1 Axes>"
            ]
          },
          "metadata": {
            "tags": []
          }
        }
      ]
    },
    {
      "cell_type": "code",
      "metadata": {
        "id": "5snDnhsYRN0w",
        "colab_type": "code",
        "colab": {}
      },
      "source": [
        "#  %matplotlib  inline  # Incase matplotlib is not supporting by default with pandas or nltk.\n",
        "# to replace  plt.show()  from any platform"
      ],
      "execution_count": 0,
      "outputs": []
    }
  ]
}